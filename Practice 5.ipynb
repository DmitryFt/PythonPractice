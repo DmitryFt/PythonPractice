{
 "cells": [
  {
   "cell_type": "markdown",
   "metadata": {},
   "source": [
    "# Задание 1:\n",
    "\n",
    "   Напишите свой токенизатор. Токенизатор - это программа, которая на вход получает некоторый текст в виде единой строки, а выдаёт список токенов - слов и знаков препинания для последующего анализа.    \n",
    "\n",
    "     Над диван-кроватью висела полочка. На ней лежала книга Ф. М. Достоевского \"Идиот\". Она сказала: \"Я купила её в Санкт-Петербурге за 9 р. 50 коп., а этот плакат - в Нью-Йорке за 1.2$\".  \n",
    "     Нефть подорожала на 2,5%.  \n",
    "     Л.Н.Толстой и др. писатели."
   ]
  },
  {
   "cell_type": "code",
   "execution_count": 26,
   "metadata": {},
   "outputs": [
    {
     "name": "stdout",
     "output_type": "stream",
     "text": [
      "['Над', 'диван-кроватью', 'висела', 'полочка', '.', 'На', 'ней', 'лежала', 'книга', 'Ф. М. Достоевского', '\"', 'Идиот', '\"', '.', 'Она', 'сказала', ':', '\"', 'Я', 'купила', 'её', 'в', 'Санкт-Петербурге', 'за', '9 р. 50 коп.', ',', 'а', 'этот', 'плакат', '-', 'в', 'Нью-Йорке', 'за', '1.2$\".', 'Нефть', 'подорожала', 'на', '2,5%.  ', 'Л.Н.Толстой', 'и', 'др', '.', 'писатели', '.']\n"
     ]
    }
   ],
   "source": [
    "text = \"\"\"Над диван-кроватью висела полочка. На ней лежала книга Ф. М. Достоевского \"Идиот\". Она сказала: \"Я купила её в Санкт-Петербурге за 9 р. 50 коп., а этот плакат - в Нью-Йорке за 1.2$\".  \n",
    " Нефть подорожала на 2,5%.  \n",
    " Л.Н.Толстой и др. писатели.\"\"\"\n",
    "import re\n",
    "Words = (re.findall(r'([А-Я]. ?[А-Я]. ?[А-я]+|\\b[А-яёЁA-z]+(?:-[А-яёЁA-z]+)*\\b|[.,]|\\d+[.,]?\\d?[%$]? ?[А-я]?. ?\\d* *[А-я]*.|[-%:$\"]', text))\n",
    "print((Words))\n",
    "#слово+ [точка или тире]* пробел* слово* точка* пробел* слово*"
   ]
  },
  {
   "cell_type": "code",
   "execution_count": 38,
   "metadata": {},
   "outputs": [
    {
     "name": "stdout",
     "output_type": "stream",
     "text": [
      "['Над', 'диван-кроватью', 'висела', 'полочка', '.', 'На', 'ней', 'лежала', 'книга', 'Ф. М. Достоевского', '\"', 'Идиот', '\"', '.', 'Она', 'сказала', ':', '\"', 'Я', 'купила', 'её', 'в', 'Санкт-Петербурге', 'за', '9 р. 50 коп.', ',', 'а', 'этот', 'плакат', '-', 'в', 'Нью-Йорке', 'за', '1.2$', '\"', '.', 'Нефть', 'подорожала', 'на', '2,5%', '.', 'Л.Н.Толстой', 'и', 'др', '.', 'писатели', '.', '8796,8%', 'ол', 'щгнегнп']\n"
     ]
    }
   ],
   "source": [
    "text = \"\"\"Над диван-кроватью висела полочка. На ней лежала книга Ф. М. Достоевского \"Идиот\". Она сказала: \"Я купила её в Санкт-Петербурге за 9 р. 50 коп., а этот плакат - в Нью-Йорке за 1.2$\".  \n",
    " Нефть подорожала на 2,5%.  \n",
    " Л.Н.Толстой и др. писатели.\n",
    " 8796,8% ол 876       щгнегнп\"\"\"\n",
    "import re\n",
    "Words = (re.findall(r'''(?x)\n",
    "                    [А-Я].[ ]?[А-Я].[ ]?[А-я]+| # инициалы имён и фамилий\n",
    "                    \\b[А-яёЁA-z]+(?:-[А-яёЁA-z]+)*\\b|  # слова через дефис \n",
    "                    [.,]| # знаки препинания\n",
    "                    [-+]?\\d+[.,]?\\d*[$%]|\n",
    "                    \\d+[ ]?р\\.[ ]?\\d*[ ]+коп\\.|\n",
    "                    [-%:$\"]''', text)) \n",
    "print((Words))\n",
    "#\\d+[.,]?\\d?[%$]?[ ]?[А-я]?.[ ]?\\d*[ ]*[А-я]*.| # числа с знаками\n",
    "#\\d+ [А-я]+. \\d+ [А-я]+.|# 9 р. 50 коп."
   ]
  },
  {
   "cell_type": "markdown",
   "metadata": {},
   "source": [
    "# Задание 2:\n",
    "\n",
    "Напишите лексический анализатор программ, написанных на Python. Ваша программа должна считывать текстовый файл, содержащий код, написанный на Python. Затем проводить его лексический анализ - заменять каждую лексему (название встроенной функции, оператор, ключевое слово, имя переменной и т.д.) на соответствующий токен (класс лексем). Подробнее о токенах смотрите ниже.  \n",
    "Формат вывода: на консоль выводится сначала строчка исходного кода, а затем строка содержащая только токены. Смотрите ниже пример ввода и вывода.\n",
    "```python\n",
    "# Key words - ключевые слова:\n",
    "and, as, assert, break, class, continue, def, del, elif, else, except, finally, for, from, global, if, import, in, is, lambda, not, or, pass, raise, return, try, while, with, yield\n",
    "# Built-in functions - встроенные функции\n",
    "abs, all, any, bin, callable, chr, classmethod, compile, delattr, dir, divmod, enumerate, eval, exec, filter, format, getattr, globals, hasattr, hash, help, hex, id, input, isinstance, issubclass, iter, len, locals, map, max, min, next, oct, open, ord, print, pow, repr, reversed, round, setattr, sorted, staticmethod, sum, super, vars, zip\n",
    "# Operators - операторы\n",
    "+, -, *, /, //, **, <<, >>, <, >, <=, >=, ==, !=, &, |, ^, ~, %\n",
    "# Literals - литералы простых типов\n",
    "    # Numbers - числа, например:\n",
    "    1, 0.124, -178, .3\n",
    "    # Strings (including unicode) - строки, например:\n",
    "    r'Hi', \"Hi\", \"\"\"Hi,\n",
    "    this\n",
    "    is\n",
    "    a\n",
    "    long\n",
    "    string\"\"\", '''Hi'''\n",
    "    # Boolean - логические:\n",
    "    True, False\n",
    "# Identifiers - идентификаторы (названия переменных, функций, атрибутов и методов)\n",
    "    # Var - переменные\n",
    "    m, m1, _\n",
    "    # Function\n",
    "    my_func()\n",
    "    # Method\n",
    "    my_class.method()\n",
    "    # Attribute\n",
    "    my_class.attribute\n",
    "# Comments - комментарии:\n",
    "# Это пример комментария\n",
    "```\n",
    "\n",
    "#### Пример\n",
    "Вход:\n",
    "```python\n",
    "f = open('mbox.txt', 'r')\n",
    "d = {}\n",
    "# From stephen.marquard@uct.ac.za Sat Jan  5 09:14:16 2008\n",
    "for line in f:\n",
    "    if line.startswith('From '): # Начинается с From\n",
    "        email = line.split()[1]\n",
    "        domen = email.split('@')[1]\n",
    "        org = domen.split('.')[0]\n",
    "        d[org] = d.get(org, 0) + 1\n",
    "        \n",
    "print(d)\n",
    "```\n",
    "\n",
    "Выход:  \n",
    "\n",
    "\n",
    "f = open('mbox.txt', 'r')  \n",
    "\\$VAR\\$ = \\$BI_FUNCTION(\\$STRING\\$, \\$STRING\\$)  \n",
    "d = {}  \n",
    "\\$VAR\\$ = {}  \n",
    "\\# From stephen.marquard@uct.ac.za Sat Jan  5 09:14:16 2008  \n",
    "\\$COMMENT\\$  \n",
    "for line in f:  \n",
    "\\$K_WORD\\$ \\$VAR\\$ \\$K_WORD\\$ \\$VAR\\$:  \n",
    "    if line.startswith('From '): # Начинается с From  \n",
    "    \\$K_WORD\\$ \\$VAR\\$.\\$METHOD(\\$STRING\\$): \\$COMMENT\\$  \n",
    "        email = line.split()[1]  \n",
    "        \\$VAR\\$ = \\$VAR\\$.\\$METHOD()[\\$NUMBER\\$]  \n",
    "        domen = email.split('@')[1]  \n",
    "        \\$VAR\\$ = \\$VAR\\$.\\$METHOD(\\$STRING\\$)[\\$NUMBER\\$]  \n",
    "        org = domen.split('.')[0]  \n",
    "        \\$VAR\\$ = \\$VAR\\$.\\$METHOD(\\$STRING\\$)[\\$NUMBER\\$]  \n",
    "        d[org] = d.get(org, 0) + 1  \n",
    "        \\$VAR\\$[\\$VAR\\$] = \\$VAR\\$.\\$METHOD(\\$VAR\\$, \\$NUMBER\\$) \\$OPERATOR\\$ \\$NUMBER\\$  \n",
    "  \n",
    "  \n",
    "print(d)  \n",
    "\\$BI_FUNCTION(\\$VAR\\$)\n",
    "\n"
   ]
  },
  {
   "cell_type": "code",
   "execution_count": 104,
   "metadata": {},
   "outputs": [
    {
     "data": {
      "text/plain": [
       "'$VAR$ open($VAR$, $VAR$)'"
      ]
     },
     "execution_count": 104,
     "metadata": {},
     "output_type": "execute_result"
    }
   ],
   "source": [
    "import re\n",
    "text = 'f = open(\\'mbox.txt\\', \\'r\\')'#f = open('mbox.txt', 'r')\n",
    "def reple(m): \n",
    "    return f'$VAR$'\n",
    "re.sub(r'(\\b[A-z]) =|(\\'\\b[A-z]*.?[A-z]+\\b\\')', reple,text)\n",
    "def rep(m): \n",
    "    return f'$VAR$'\n",
    "re.sub(r'(\\b[A-z]) =|(\\'\\b[A-z]*.?[A-z]+\\b\\')', rep,text)"
   ]
  },
  {
   "cell_type": "code",
   "execution_count": 132,
   "metadata": {},
   "outputs": [
    {
     "data": {
      "text/plain": [
       "'Некоторые $VAR$ слова подозрительны: $VAR$, $VAR$, $VAR$.'"
      ]
     },
     "execution_count": 132,
     "metadata": {},
     "output_type": "execute_result"
    }
   ],
   "source": [
    "def repl(m): \n",
    "    return '$VAR$' \n",
    "text = \"Некоторые хорошие слова подозрительны: хор, хоровод, хороводоводовед.\" \n",
    "re.sub(r'\\b[хХ]\\w*', repl, text)"
   ]
  },
  {
   "cell_type": "code",
   "execution_count": 133,
   "metadata": {},
   "outputs": [],
   "source": [
    "import re\n",
    "Built_in_functions = '''abs, all, any, bin, callable, chr, classmethod, compile, delattr, dir, divmod, enumerate, eval, exec, filter, \n",
    "format, getattr, globals, hasattr, hash, help, hex, id, input, isinstance, issubclass, iter, len, locals, map, max, min, next, oct, \n",
    "open, ord, print, pow, repr, reversed, round, setattr, sorted, staticmethod, sum, super, vars, zip'''\n",
    "text = 'f = open(\\'mbox.txt\\', \\'r\\')'#f = open('mbox.txt', 'r')\n",
    "text2 = re.findall(r' ([A-z]+)',text)\n",
    "text3 = '''f = open('mbox.txt', 'r')\n",
    "d = {}\n",
    "# From stephen.marquard@uct.ac.za Sat Jan  5 09:14:16 2008\n",
    "for line in f:\n",
    "    if line.startswith('From '): # Начинается с From\n",
    "        email = line.split()[1]\n",
    "        domen = email.split('@')[1]\n",
    "        org = domen.split('.')[0]\n",
    "        d[org] = d.get(org, 0) + 1\n",
    "\n",
    "print(d)'''\n",
    "# def ffff(text3):\n",
    "#     if [1 for word in re.findall(r'([A-z]+)',text3) if word in Built_in_functions]:\n",
    "#         print(re.sub(r'([A-z]+)',  text3))\n",
    "# ffff(text3)"
   ]
  },
  {
   "cell_type": "code",
   "execution_count": 45,
   "metadata": {},
   "outputs": [
    {
     "data": {
      "text/plain": [
       "'\\\\band\\\\b|\\\\bas\\\\b|\\\\bassert\\\\b|\\\\bbreak\\\\b|\\\\bclass\\\\b|\\\\bcontinue\\\\b|\\\\bdef\\\\b|\\\\bdel\\\\b|\\\\belif\\\\b|\\\\belse\\\\b|\\\\bexcept\\\\b|\\\\bfinally\\\\b|\\\\bfor\\\\b|\\\\bfrom\\\\b|\\\\bglobal\\\\b|\\\\bif\\\\b|\\\\bimport\\\\b|\\\\bin\\\\b|\\\\bis\\\\b|\\\\b\\nlambda\\\\b|\\\\bnot\\\\b|\\\\bor\\\\b|\\\\bpass\\\\b|\\\\braise\\\\b|\\\\breturn\\\\b|\\\\btry\\\\b|\\\\bwhile\\\\b|\\\\bwith\\\\b|\\\\byield\\\\b'"
      ]
     },
     "execution_count": 45,
     "metadata": {},
     "output_type": "execute_result"
    }
   ],
   "source": [
    "K_WORD = '''\\\\band|as|assert|break|class|continue|def|del|elif|else|except|finally|for|from|global|if|import|in|is|\n",
    "lambda|not|or|pass|raise|return|try|while|with|yield\\\\b'''\n",
    "r'\\b|\\b'.join(K_WORD.split('|'))"
   ]
  },
  {
   "cell_type": "code",
   "execution_count": 71,
   "metadata": {},
   "outputs": [
    {
     "name": "stdout",
     "output_type": "stream",
     "text": [
      "f = open('mbox.txt', 'r')\n",
      "$VAR$ = $BI_FUNCTION$($STRING$, $STRING$)\n",
      "dand\n",
      "$VAR$\n",
      "d = {}\n",
      "$VAR$ = {}\n",
      "# From stephen.marquard@uct.ac.za Sat Jan  5 09:14:16 2008\n",
      "$COMMENT$\n",
      "for line in f:\n",
      "$K_WORD$ $VAR$ $K_WORD$ $VAR$:\n",
      "    if line.startswith('From '): # Начинается с From\n",
      "    $K_WORD$ $VAR$.$METHOD$($STRING$): $COMMENT$\n",
      "        email = line.split()[1]\n",
      "        $VAR$ = $VAR$.$METHOD$()[$NUMBER$]\n",
      "        domen.j = email.split('@')[1]\n",
      "        $VAR$.$ATTRIBUTE$ = $VAR$.$METHOD$($STRING$)[$NUMBER$]\n",
      "        org = domen.split('.')[0]\n",
      "        $VAR$ = $VAR$.$METHOD$($STRING$)[$NUMBER$]\n",
      "        d[org] = d.get(org, 0) + 1\n",
      "        $VAR$[$VAR$] = $VAR$.$METHOD$($VAR$, $NUMBER$) $OPERATOR$ $NUMBER$\n",
      "\n",
      "\n",
      "print(d)\n",
      "$BI_FUNCTION$($VAR$)\n"
     ]
    }
   ],
   "source": [
    "import re\n",
    "text3 = '''f = open('mbox.txt', 'r')\n",
    "dand\n",
    "d = {}\n",
    "# From stephen.marquard@uct.ac.za Sat Jan  5 09:14:16 2008\n",
    "for line in f:\n",
    "    if line.startswith('From '): # Начинается с From\n",
    "        email = line.split()[1]\n",
    "        domen.j = email.split('@')[1]\n",
    "        org = domen.split('.')[0]\n",
    "        d[org] = d.get(org, 0) + 1\n",
    "\n",
    "print(d)'''\n",
    "BI_FUNCTION = '''\\\\babs|all|any|bin|callable|chr|classmethod|compile|delattr|dir|divmod|enumerate|eval|exec|filter|\n",
    "format|getattr|globals|hasattr|hash|help|hex|id|input|isinstance|issubclass|iter|len|locals|map|max|min|next|\n",
    "oct|open|ord|print|pow|repr|reversed|round|setattr|sorted|staticmethod|sum|super|vars|zip\\\\b'''\n",
    "K_WORD = '''\\\\band|as|assert|break|class|continue|def|del|elif|else|except|finally|for|from|global|if|import|in|is|\n",
    "lambda|not|or|pass|raise|return|try|while|with|yield\\\\b'''\n",
    "OPERATOR = '\\+|-|\\*|/|//|\\*\\*|<<|>>|<|>|<=|>=|==|!=|&|\\||\\^|~|%'\n",
    "BOOLEAN = '\\\\bTrue\\\\b|\\\\bFalse\\\\b'\n",
    "tup=(\n",
    "    (r'\\b|\\b'.join(K_WORD.split('|')), '$K_WORD$'), #ключевые\n",
    "    (r'\\b|\\b'.join(BI_FUNCTION.split('|')), '$BI_FUNCTION$'), #функции\n",
    "    (r\"\"\"'.*?'|'.*?'|\".*?\"|\\\"\\\"\\\".*?\\\"\\\"\\\"|'''.*?'''\"\"\",'$STRING$'), #строки\n",
    "    ('-?\\d+(?:\\.\\d*)?', '$NUMBER$'), #числа\n",
    "    (r'#.*', '$COMMENT$'), #комменты\n",
    "    (BOOLEAN, '$BOOL$'), #булеаны\n",
    "    (r'\\.[a-z_]\\w*\\(',r'.$METHOD$('), #методы\n",
    "    (r'([ ([]|^)\\b[a-z_]\\w*',r'\\1$VAR$'), #переменные\n",
    "    (r'\\.[a-z_]', '.$ATTRIBUTE$'), #атрибуты\n",
    "    (OPERATOR, r'$OPERATOR$'), #операторы\n",
    ")\n",
    "#(r'\\..+\\(', '.$METHOD$('), #методы\n",
    "#(r'(\\w+.+)\\w+\\(\\w*',r'\\1$METHOD$'), #методы\n",
    "TEXT = text3.split('\\n')\n",
    "for line in TEXT:\n",
    "    print(line)\n",
    "    for pattern, sub in tup:\n",
    "        line = re.sub(pattern, sub, line)\n",
    "    print(line)\n",
    "# 4 ЛАБА\n",
    "# на тему разделяемых ссылок\n",
    "# в питоне любая ф-я где нет ретурна - возвращает NONE\n",
    "# 1) присваивание всегда изменяет ссылку\n",
    "# 2) всегда важно понимать, к какому классу объектов относится наш объект, есть неизменяемые объекты! \n",
    "# s = s.lower() строка неизменяема, сама строка с не изменяется, этот метод возращ новый объект\n",
    "# l = l.sort() - эта ф-я изменяет сам список l, объект будет потерян т.к. будет возвращен NONE\n",
    "# l = sorted(l) - саму коллекцию не трогаем, но вернулся новый список, который уже отсортирован\n",
    "# если изменим один элем списка через присвивание, то он изменится только один\n",
    "# а если изменим один элем через ссылку, то изменятся все элементы, на который ссылался тот"
   ]
  },
  {
   "cell_type": "raw",
   "metadata": {},
   "source": []
  },
  {
   "cell_type": "code",
   "execution_count": 178,
   "metadata": {},
   "outputs": [
    {
     "ename": "SyntaxError",
     "evalue": "invalid syntax (<ipython-input-178-de9688f70cde>, line 1)",
     "output_type": "error",
     "traceback": [
      "\u001b[1;36m  File \u001b[1;32m\"<ipython-input-178-de9688f70cde>\"\u001b[1;36m, line \u001b[1;32m1\u001b[0m\n\u001b[1;33m    $VAR$ = $BI_FUNCTION($STRING$, $STRING$)\u001b[0m\n\u001b[1;37m    ^\u001b[0m\n\u001b[1;31mSyntaxError\u001b[0m\u001b[1;31m:\u001b[0m invalid syntax\n"
     ]
    }
   ],
   "source": [
    "$VAR$ = $BI_FUNCTION($STRING$, $STRING$)\n",
    "$VAR$ = {}\n",
    "$COMMENT$\n",
    "$K_WORD$ $VAR$ $K_WORD$ $VAR$:\n",
    "    $K_WORD$ $VAR$.$METHOD($STRING$): $COMMENT$\n",
    "        $VAR$ = $VAR$.$METHOD()[$NUMBER$]\n",
    "        $VAR$ = $VAR$.$METHOD($STRING$)[$NUMBER$]\n",
    "        $VAR$ = $VAR$.$METHOD($STRING$)[$NUMBER$]\n",
    "        $VAR$[$VAR$] = $VAR$.$METHOD($VAR$, $NUMBER$) $OPERATOR$ $NUMBER$\n",
    "\n",
    "$BI_FUNCTION($VAR$)"
   ]
  },
  {
   "cell_type": "code",
   "execution_count": null,
   "metadata": {},
   "outputs": [],
   "source": []
  }
 ],
 "metadata": {
  "anaconda-cloud": {},
  "kernelspec": {
   "display_name": "Python 3",
   "language": "python",
   "name": "python3"
  },
  "language_info": {
   "codemirror_mode": {
    "name": "ipython",
    "version": 3
   },
   "file_extension": ".py",
   "mimetype": "text/x-python",
   "name": "python",
   "nbconvert_exporter": "python",
   "pygments_lexer": "ipython3",
   "version": "3.6.4"
  }
 },
 "nbformat": 4,
 "nbformat_minor": 1
}
